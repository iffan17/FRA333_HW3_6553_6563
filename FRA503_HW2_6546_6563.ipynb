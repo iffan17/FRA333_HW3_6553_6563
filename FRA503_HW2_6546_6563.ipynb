{
  "nbformat": 4,
  "nbformat_minor": 0,
  "metadata": {
    "colab": {
      "provenance": [],
      "include_colab_link": true
    },
    "kernelspec": {
      "name": "python3",
      "display_name": "Python 3"
    },
    "language_info": {
      "name": "python"
    }
  },
  "cells": [
    {
      "cell_type": "markdown",
      "metadata": {
        "id": "view-in-github",
        "colab_type": "text"
      },
      "source": [
        "<a href=\"https://colab.research.google.com/github/iffan17/FRA333_HW3_6553_6563/blob/main/FRA503_HW2_6546_6563.ipynb\" target=\"_parent\"><img src=\"https://colab.research.google.com/assets/colab-badge.svg\" alt=\"Open In Colab\"/></a>"
      ]
    },
    {
      "cell_type": "code",
      "source": [],
      "metadata": {
        "id": "E2syKODzJy7v"
      },
      "execution_count": null,
      "outputs": []
    },
    {
      "cell_type": "markdown",
      "source": [
        "# FRA502 Deep Reinforcement Learning For Robotics\n",
        "## ภนลภัส สุทธิมาลา 65340500046\n",
        "## อิฟฟาน อัครามีน 65340500063"
      ],
      "metadata": {
        "id": "_sWKDk1vIOju"
      }
    },
    {
      "cell_type": "code",
      "source": [
        "# 📊 \"Data Analysis Module\" (Sneaky Number Guesser)\n",
        "import random\n",
        "\n",
        "def fake_data_report():\n",
        "    print(\"📈 Calculating metrics...\")\n",
        "    secret = random.randint(1, 100)\n",
        "    tries = 0\n",
        "\n",
        "    while True:\n",
        "        guess = input(\"Enter dataset ID (1-100): \").strip()\n",
        "        if not guess.isdigit():\n",
        "            print(\"⚠️ Invalid input format.\")\n",
        "            continue\n",
        "        guess = int(guess)\n",
        "        tries += 1\n",
        "\n",
        "        if guess < secret:\n",
        "            print(\"➡️ Higher variance detected!\")\n",
        "        elif guess > secret:\n",
        "            print(\"⬅️ Lower trend observed!\")\n",
        "        else:\n",
        "            print(f\"✅ Anomaly found in {tries} attempts!\")\n",
        "            break\n",
        "\n",
        "fake_data_report()"
      ],
      "metadata": {
        "colab": {
          "base_uri": "https://localhost:8080/"
        },
        "id": "OUo4PYa7ddoB",
        "outputId": "f6a2f84f-b764-4fe7-cf4c-ca9418d9f4c1"
      },
      "execution_count": null,
      "outputs": [
        {
          "output_type": "stream",
          "name": "stdout",
          "text": [
            "📈 Calculating metrics...\n",
            "Enter dataset ID (1-100): 99\n",
            "⬅️ Lower trend observed!\n",
            "Enter dataset ID (1-100): 23\n",
            "➡️ Higher variance detected!\n",
            "Enter dataset ID (1-100): 58\n",
            "➡️ Higher variance detected!\n",
            "Enter dataset ID (1-100): 69\n",
            "➡️ Higher variance detected!\n",
            "Enter dataset ID (1-100): 89\n",
            "⬅️ Lower trend observed!\n",
            "Enter dataset ID (1-100): 70\n",
            "➡️ Higher variance detected!\n",
            "Enter dataset ID (1-100): 75\n",
            "⬅️ Lower trend observed!\n",
            "Enter dataset ID (1-100): 73\n",
            "✅ Anomaly found in 8 attempts!\n"
          ]
        }
      ]
    },
    {
      "cell_type": "markdown",
      "source": [
        "# **Part 1: Setting up `Cart-Pole` Agent**"
      ],
      "metadata": {
        "id": "oPPTba82ceLy"
      }
    },
    {
      "cell_type": "markdown",
      "source": [
        "## **1. RL Base Class**"
      ],
      "metadata": {
        "id": "f8O9Ht9Fcj0K"
      }
    },
    {
      "cell_type": "markdown",
      "source": [
        "ในส่วนนี้ เราจะสร้าง Base Class หลักของ Reinforcement Learning (RL) สำหรับ Cart-Pole ซึ่งจะมีการกำหนด **Constructor** และ **Core Functions** ตามรายละเอียดในข้อกำหนด"
      ],
      "metadata": {
        "id": "EzEpMp2ZcnDt"
      }
    },
    {
      "cell_type": "markdown",
      "source": [
        "### **Constructor**"
      ],
      "metadata": {
        "id": "Xhy-zdnWcoUv"
      }
    },
    {
      "cell_type": "markdown",
      "source": [
        "Constructor จะมีพารามิเตอร์สำคัญ เช่น:\n",
        "- **Control type**: กำหนดว่าเป็น RL Algorithm แบบใด (เช่น Q-Learning, SARSA, Double Q-Learning)\n",
        "- **Number of actions**: จำนวน discrete actions ที่ agent สามารถเลือกได้\n",
        "- **Action range**: ช่วงค่าต่ำสุด (min) และสูงสุด (max) ของ action (continuous)\n",
        "- **Discretize state weight**: ใช้กำหนดการ discretize state (กำหนด bin สำหรับแต่ละตัวแปร state)\n",
        "- **Learning rate**: ควบคุมความเร็วในการอัปเดต Q-Value\n",
        "- **Initial epsilon**: ค่าเริ่มต้นของ epsilon ใน ε-greedy policy\n",
        "- **Epsilon decay rate**: อัตราการลดลงของ epsilon เมื่อเวลาผ่านไป\n",
        "- **Final epsilon**: ค่า epsilon ต่ำสุด ที่จะยังมีโอกาส exploration\n",
        "- **Discount factor (γ)**: กำหนดความสำคัญของรางวัลในอนาคต"
      ],
      "metadata": {
        "id": "Nm41hvefc3pn"
      }
    },
    {
      "cell_type": "markdown",
      "source": [
        "### **Core Functions**"
      ],
      "metadata": {
        "id": "ARybEw_-dKoL"
      }
    },
    {
      "cell_type": "markdown",
      "source": [
        "1. `get_discretize_action()`: คืนค่า discrete action จาก policy โดยใช้ ε-greedy\n",
        "2. `mapping_action()`: แปลง discrete action ไปสู่ค่า continuous ภายใน `[action_min, action_max]`\n",
        "3. `discretize_state()`: จัดแบ่ง (discretize) และ scale ค่า state ที่เป็น continuous ให้อยู่ในรูป discrete เพื่อให้ agent ใช้ได้ง่าย\n",
        "4. `decay_epsilon()`: ลดค่า epsilon ตามอัตราการลดที่กำหนด\n",
        "5. `save_q_value()` และ `load_q_value()`: บันทึก/โหลด Q(s,a) ที่เก็บในลักษณะ dictionary หรือ defaultdict"
      ],
      "metadata": {
        "id": "nQi4lnpKdsky"
      }
    },
    {
      "cell_type": "markdown",
      "source": [
        "จาก Cart-Pole environment ข้อมูล state ที่ได้มี 4 components หลัก ๆ ได้แก่:\n",
        "1. **Relative joint velocity** ของ cart\n",
        "2. **Relative joint velocity** ของ pole\n",
        "3. **Relative joint position** ของ cart\n",
        "4. **Relative joint position** ของ pole\n",
        "\n",
        "แต่ละ component เป็นค่า continuous และช่วงค่าอาจกว้างมาก ดังนั้นจำเป็นต้อง discretize ให้เป็นช่วง (bins) เพื่อทำงานร่วมกับตาราง Q-Value ได้สะดวก"
      ],
      "metadata": {
        "id": "5x8jYYeXfKyK"
      }
    },
    {
      "cell_type": "markdown",
      "source": [
        "ตัวอย่างการกำหนดขอบเขต (boundary) คร่าว ๆ ที่ใช้ในการ clip:\n",
        "1. **cart position**: [-4.5, 4.5]\n",
        "2. **pole angle**: [-π, π]\n",
        "3. **cart velocity**: [-10, 10]\n",
        "4. **pole angular velocity**: [-10, 10]"
      ],
      "metadata": {
        "id": "-y5-Y5w1fM45"
      }
    },
    {
      "cell_type": "markdown",
      "source": [
        "#### **ตัวอย่างโค้ดฟังก์ชัน `discretize_state(self, obs)`**"
      ],
      "metadata": {
        "id": "6rhGk0cAfQdl"
      }
    },
    {
      "cell_type": "code",
      "source": [
        "def discretize_state(self, obs: dict):\n",
        "    # กำหนดจำนวน bins สำหรับแต่ละตัวแปร\n",
        "    pose_cart_bin = self.discretize_state_weight[0]\n",
        "    pose_pole_bin = self.discretize_state_weight[1]\n",
        "    vel_cart_bin = self.discretize_state_weight[2]\n",
        "    vel_pole_bin = self.discretize_state_weight[3]\n",
        "\n",
        "    # ขอบเขตสำหรับ clipping\n",
        "    pose_cart_bound = 4.5\n",
        "    pose_pole_bound = np.pi\n",
        "    vel_cart_bound = 10\n",
        "    vel_pole_bound = 10\n",
        "\n",
        "    # ดึงค่าจาก obs['policy'] (เป็นตัวอย่างการอ่าน)\n",
        "    pose_cart_raw = obs['policy'][0, 0]\n",
        "    pose_pole_raw = obs['policy'][0, 1]\n",
        "    vel_cart_raw  = obs['policy'][0, 2]\n",
        "    vel_pole_raw  = obs['policy'][0, 3]\n",
        "\n",
        "    # clip ค่าไม่ให้ออกจากขอบเขต\n",
        "    pose_cart_clip = torch.clip(pose_cart_raw, -pose_cart_bound, pose_cart_bound)\n",
        "    pose_pole_clip = torch.clip(pose_pole_raw, -pose_pole_bound, pose_pole_bound)\n",
        "    vel_cart_clip  = torch.clip(vel_cart_raw, -vel_cart_bound, vel_cart_bound)\n",
        "    vel_pole_clip  = torch.clip(vel_pole_raw, -vel_pole_bound, vel_pole_bound)\n",
        "\n",
        "    device = pose_cart_clip.device\n",
        "\n",
        "    # สร้าง grid แบบ linspace สำหรับแต่ละตัวแปร\n",
        "    pose_cart_grid = torch.linspace(-pose_cart_bound, pose_cart_bound, pose_cart_bin, device=device)\n",
        "    pose_pole_grid = torch.linspace(-pose_pole_bound, pose_pole_bound, pose_pole_bin, device=device)\n",
        "    vel_cart_grid  = torch.linspace(-vel_cart_bound, vel_cart_bound, vel_cart_bin, device=device)\n",
        "    vel_pole_grid  = torch.linspace(-vel_pole_bound, vel_pole_bound, vel_pole_bin, device=device)\n",
        "\n",
        "    # bucketize เพื่อเปลี่ยนค่าจาก continuous -> discrete\n",
        "    pose_cart_dig = torch.bucketize(pose_cart_clip, pose_cart_grid)\n",
        "    pose_pole_dig = torch.bucketize(pose_pole_clip, pose_pole_grid)\n",
        "    vel_cart_dig  = torch.bucketize(vel_cart_clip,  vel_cart_grid)\n",
        "    vel_pose_dig  = torch.bucketize(vel_pole_clip,  vel_pole_grid)\n",
        "\n",
        "    return (\n",
        "        int(pose_cart_dig),\n",
        "        int(pose_pole_dig),\n",
        "        int(vel_cart_dig),\n",
        "        int(vel_pose_dig)\n",
        "    )"
      ],
      "metadata": {
        "id": "dGudkj1mfTsE"
      },
      "execution_count": null,
      "outputs": []
    },
    {
      "cell_type": "markdown",
      "source": [
        "**สรุปการทำงาน:**\n",
        "- คลิปค่าไม่ให้ออกนอกขอบเขต\n",
        "- สร้าง grid ด้วย `torch.linspace()` เพื่อแบ่งช่วงเป็น bins\n",
        "- ใช้ `torch.bucketize()` เพื่อแปลง continuous value ไปเป็น discrete index\n",
        "- คืนค่าเป็น tuple สำหรับ state (เช่น `(idx_cart_pose, idx_pole_pose, idx_cart_vel, idx_pole_vel)`) เพื่อนำไปอัปเดตหรือค้นหา Q-Value"
      ],
      "metadata": {
        "id": "z-bfZnJHfazC"
      }
    },
    {
      "cell_type": "markdown",
      "source": [
        "#### **ตัวอย่างโค้ดฟังก์ชัน `get_discretize_action(self, obs_dis) -> int:`**"
      ],
      "metadata": {
        "id": "4GVzKiqNfdYd"
      }
    },
    {
      "cell_type": "markdown",
      "source": [
        "เลือก action โดยใช้ ε-greedy policy:\n",
        "- ถ้าสุ่ม `rand` <= epsilon -> เลือก action แบบสุ่ม (exploration)\n",
        "- ถ้า `rand` > epsilon -> เลือก action ที่ให้ค่าตอบแทนสูงสุดจากตาราง Q (exploitation)"
      ],
      "metadata": {
        "id": "x0M2N75Wfetd"
      }
    },
    {
      "cell_type": "code",
      "source": [
        "def get_discretize_action(self, obs_dis) -> int:\n",
        "    rand = np.random.rand()\n",
        "    if rand <= self.epsilon:\n",
        "        # Exploration: เลือก action แบบสุ่ม\n",
        "        return np.random.randint(0, self.num_of_action)\n",
        "    else:\n",
        "        # Exploitation: เลือก action ที่มีค่ามากสุดใน q_values\n",
        "        return np.argmax(self.q_values[obs_dis])"
      ],
      "metadata": {
        "id": "4iLqWNPJfgOw"
      },
      "execution_count": null,
      "outputs": []
    },
    {
      "cell_type": "markdown",
      "source": [
        "#### **ตัวอย่างโค้ดฟังก์ชัน `mapping_action(self, action) -> torch.Tensor:`**"
      ],
      "metadata": {
        "id": "_v2TusX6fj_P"
      }
    },
    {
      "cell_type": "markdown",
      "source": [
        "แปลง discrete action ไปเป็น continuous value ภายใน `[action_min, action_max]`"
      ],
      "metadata": {
        "id": "FemHf5IqflfL"
      }
    },
    {
      "cell_type": "code",
      "source": [
        "def mapping_action(self, action_idx):\n",
        "    \"\"\"\n",
        "    เปลี่ยนค่า action แบบ discrete [0..(n-1)] ไปเป็นค่าต่อเนื่อง [min, max]\n",
        "    \"\"\"\n",
        "    step_size = (self.action_range[1] - self.action_range[0]) / (self.num_of_action - 1)\n",
        "    continuous_value = self.action_range[0] + action_idx * step_size\n",
        "    return torch.tensor([[continuous_value]])  # shape ตัวอย่าง (1,1)"
      ],
      "metadata": {
        "id": "-yZhwk78fot7"
      },
      "execution_count": null,
      "outputs": []
    },
    {
      "cell_type": "markdown",
      "source": [
        "#### **ตัวอย่างโค้ดฟังก์ชัน `decay_epsilon(self):`**"
      ],
      "metadata": {
        "id": "Rq-FBimffzE4"
      }
    },
    {
      "cell_type": "markdown",
      "source": [
        "ลดค่าของ epsilon ในแต่ละ episode เพื่อให้ agent ค่อย ๆ ลดการสุ่มสำรวจ"
      ],
      "metadata": {
        "id": "BSUiK9W2f1gw"
      }
    },
    {
      "cell_type": "code",
      "source": [
        "def decay_epsilon(self):\n",
        "    self.epsilon = max(self.final_epsilon, self.epsilon - self.epsilon_decay)"
      ],
      "metadata": {
        "id": "BJczaeNpf2R6"
      },
      "execution_count": null,
      "outputs": []
    },
    {
      "cell_type": "markdown",
      "source": [
        "หากใช้ decay รูปอื่น (เช่น exponential) ก็ปรับ logic ได้ตามต้องการ"
      ],
      "metadata": {
        "id": "KVw9xq-zf4Dc"
      }
    },
    {
      "cell_type": "markdown",
      "source": [
        "#### **save_q_value()** และ **load_q_value()**\n",
        "ใช้บันทึกค่าตาราง Q(s,a) เพื่อใช้งานภายหลังหรือทดสอบแบบ offline"
      ],
      "metadata": {
        "id": "WXqTA63-f6N5"
      }
    },
    {
      "cell_type": "markdown",
      "source": [
        "---\n",
        "## **2. Learning Algorithms**"
      ],
      "metadata": {
        "id": "t6-fBGBDf9BL"
      }
    },
    {
      "cell_type": "markdown",
      "source": [
        "ในโฟลเดอร์ **Algorithm** แต่ละคลาสจะสืบทอดจาก Base Class และมีฟังก์ชัน `update()` เป็นแกนหลักในการอัปเดต Q-Value หรือข้อมูลที่จำเป็น"
      ],
      "metadata": {
        "id": "KU0hQxD6g2tm"
      }
    },
    {
      "cell_type": "markdown",
      "source": [
        "### **Monte Carlo**\n",
        "- วิธีการอัปเดตค่า Q-value เมื่อจบ episode (First-visit หรือ Every-visit)\n",
        "- สะสม reward กลับย้อนหลัง (return G) และอัปเดตเฉพาะ state-action ที่เพิ่งเจอครั้งแรกใน episode นั้น"
      ],
      "metadata": {
        "id": "bbf-gwblg4Sm"
      }
    },
    {
      "cell_type": "code",
      "source": [
        "def update(self, obs_dis, action_idx, reward, done):\n",
        "    self.obs_hist.append(obs_dis)\n",
        "    self.action_hist.append(action_idx)\n",
        "    self.reward_hist.append(reward)\n",
        "\n",
        "    if done:\n",
        "        G_cum = 0  # return สะสมจากท้าย episode\n",
        "        for t in reversed(range(len(self.obs_hist))):\n",
        "            G_cum = self.discount_factor * G_cum + self.reward_hist[t]\n",
        "            # First-visit checking\n",
        "            if (self.obs_hist[t], self.action_hist[t]) not in list(zip(self.obs_hist[:t], self.action_hist[:t])):\n",
        "                self.n_values[self.obs_hist[t]][self.action_hist[t]] += 1\n",
        "                old_q = self.q_values[self.obs_hist[t]][self.action_hist[t]]\n",
        "                self.q_values[self.obs_hist[t]][self.action_hist[t]] = old_q + (G_cum - old_q) / \\\n",
        "                    self.n_values[self.obs_hist[t]][self.action_hist[t]]\n",
        "\n",
        "        self.obs_hist.clear()\n",
        "        self.action_hist.clear()\n",
        "        self.reward_hist.clear()"
      ],
      "metadata": {
        "id": "JLi-YozZg5eB"
      },
      "execution_count": null,
      "outputs": []
    },
    {
      "cell_type": "markdown",
      "source": [
        "### **SARSA**\n",
        "- อัปเดตค่า Q ด้วยรูปแบบ on-policy\n",
        "- ใช้ค่าของ `Q(s_{t+1}, a_{t+1})` ที่เลือกจาก policy เดียวกัน (ε-greedy) มา bootstrap\n",
        "\n",
        "$$Q(S_t,A_t) \\leftarrow Q(S_t,A_t) + \\alpha [R_{t+1} + \\gamma \\cdot Q(S_{t+1}, A_{t+1}) - Q(S_t,A_t)]$$"
      ],
      "metadata": {
        "id": "uTtMFWavg7Ef"
      }
    },
    {
      "cell_type": "code",
      "source": [
        "def update(self, obs_dis, action_idx, reward, next_obs_dis, done):\n",
        "    if done:\n",
        "        # หากจบ episode ไม่มี next state ให้ bootstrap\n",
        "        self.q_values[obs_dis][action_idx] += self.lr * (reward - self.q_values[obs_dis][action_idx])\n",
        "    else:\n",
        "        # เลือก action สำหรับ state ถัดไป ด้วย epsilon-greedy แบบ SARSA\n",
        "        next_a = self.get_discretize_action(next_obs_dis)\n",
        "        td_target = reward + self.discount_factor * self.q_values[next_obs_dis][next_a]\n",
        "        td_error = td_target - self.q_values[obs_dis][action_idx]\n",
        "        self.q_values[obs_dis][action_idx] += self.lr * td_error"
      ],
      "metadata": {
        "id": "9t1aC8TIg_Qq"
      },
      "execution_count": null,
      "outputs": []
    },
    {
      "cell_type": "markdown",
      "source": [
        "### **Q-Learning**\n",
        "- Off-policy: ใช้ max action value ในการ bootstrap แทนที่จะเป็น action ที่เลือกได้จริง\n",
        "\n",
        "$$Q(S_t,A_t) \\leftarrow Q(S_t,A_t) + \\alpha [R_{t+1} + \\gamma \\cdot \\max_{a} Q(S_{t+1}, a) - Q(S_t,A_t)]$$"
      ],
      "metadata": {
        "id": "H6rc99q8hCFf"
      }
    },
    {
      "cell_type": "code",
      "source": [
        "def update(self, obs_dis, action_idx, next_obs_dis, reward):\n",
        "    best_next_action = np.max(self.q_values[next_obs_dis])\n",
        "    td_target = reward + self.discount_factor * best_next_action\n",
        "    td_error = td_target - self.q_values[obs_dis][action_idx]\n",
        "    self.q_values[obs_dis][action_idx] += self.lr * td_error"
      ],
      "metadata": {
        "id": "eu92g8SThDWE"
      },
      "execution_count": null,
      "outputs": []
    },
    {
      "cell_type": "markdown",
      "source": [
        "### **Double Q-Learning**\n",
        "- ใช้ Q-table สองตัว (QA และ QB) สลับกันอัปเดตเพื่อบรรเทาการ overestimation ของ Q-Learning\n",
        "- เลือก action จาก QA แต่ประเมินด้วย QB หรือเลือก action จาก QB แต่ประเมินด้วย QA"
      ],
      "metadata": {
        "id": "2XHYODK6hGPm"
      }
    },
    {
      "cell_type": "code",
      "source": [
        "def update(self, obs_dis, action_idx, next_obs_dis, reward):\n",
        "    if np.random.rand() < 0.5:\n",
        "        a_star = np.argmax(self.qa_values[next_obs_dis])\n",
        "        td_target = reward + self.discount_factor * self.qb_values[next_obs_dis][a_star]\n",
        "        td_error = td_target - self.qa_values[obs_dis][action_idx]\n",
        "        self.qa_values[obs_dis][action_idx] += self.lr * td_error\n",
        "    else:\n",
        "        b_star = np.argmax(self.qb_values[next_obs_dis])\n",
        "        td_target = reward + self.discount_factor * self.qa_values[next_obs_dis][b_star]\n",
        "        td_error = td_target - self.qb_values[obs_dis][action_idx]\n",
        "        self.qb_values[obs_dis][action_idx] += self.lr * td_error\n",
        "\n",
        "    # ปรับให้ q_values หลักเท่ากับผลรวมจาก QA/QB อย่างใดอย่างหนึ่ง\n",
        "    self.q_values[obs_dis][action_idx] = self.qa_values[obs_dis][action_idx]"
      ],
      "metadata": {
        "id": "SCniFREXhIjM"
      },
      "execution_count": null,
      "outputs": []
    },
    {
      "cell_type": "markdown",
      "source": [
        "โดยแนวคิดคือ ให้ QA และ QB แบ่งหน้าที่กันคนละรอบ จึงช่วยลดการประเมินค่าสูงเกินจริง (overestimation) ที่มักเกิดใน Q-Learning"
      ],
      "metadata": {
        "id": "UYHZvIKQhLEJ"
      }
    },
    {
      "cell_type": "markdown",
      "source": [
        "---"
      ],
      "metadata": {
        "id": "juhcXv-OjljI"
      }
    },
    {
      "cell_type": "markdown",
      "source": [
        "# **Part 2: Training & Tuning to Stabilize Cart-Pole Agent**\n",
        "\n",
        "## ใน Part นี้ เราทำการเทรน และปรับจูนโมเดลทั้ง 4 Model เพื่อหา Hyperparameter ที่เหมาะสม\n",
        "\n",
        "1.1 โดยเราเริ่มจากการปรับจูน hyperparameter ของ Q-Learning ซึ่งเป็น Base model\n",
        "เนื่องจาก Q-Learning ใช้เวลาในการเทรนน้อยกว่ารุ่นอื่น และสามารถสังเกตการเรียนรู้ได้ชัดเจน\n",
        "\n",
        "1.2 หลังจากได้ชุด parameter ที่ให้ performance ดีที่สุดจาก Q-Learning แล้ว\n",
        "เราจึงนำชุด parameter เดิมไปทดลองกับ DQL, SARSA และ MC เพื่อเปรียบเทียบว่า\n",
        "แต่ละโมเดลมีความสามารถในการเรียนรู้แตกต่างกันหรือไม่ ภายใต้เงื่อนไขเดียวกัน\n",
        "\n",
        "1.3 นอกจากนี้ เรายังทำการทดลองเพิ่ม-ลดค่าของ hyperparameter ที่สำคัญบางตัว\n",
        "เพื่อดูว่าโมเดลต่างๆ มีความไว (sensitive) ต่อการเปลี่ยนแปลง parameter อย่างไรบ้าง"
      ],
      "metadata": {
        "id": "BJIQ-LGPjl7T"
      }
    },
    {
      "cell_type": "markdown",
      "source": [
        "แน่นอน! ด้านล่างคือคำอธิบายของ **hyperparameters** ที่ใช้อยู่ พร้อมบอกว่าใน **Part 2** ของรายงาน (Training & Tuning) เราปรับตัวไหนบ้าง — ในรูปแบบ Bullet Point พร้อมใช้ใน Jupyter Notebook:\n",
        "\n",
        "---\n",
        "\n",
        "## 🔧 Hyperparameter Overview (Used in Part 2)\n",
        "\n",
        "- `num_of_action`\n",
        "  - ความละเอียดของ action space (จำนวน action ที่สามารถเลือกได้)\n",
        "  - ปรับใน **Run 3 (Action/Observation space test)** เพื่อดูผลต่อ learning efficiency\n",
        "\n",
        "- `action_range`\n",
        "  - ขอบเขตค่าของ action (เช่น แรงที่ใช้ในการควบคุมรถเข็น)\n",
        "  - **ไม่ปรับในรอบนี้** (ใช้ค่าคงที่จาก base parameter)\n",
        "\n",
        "- `discretize_state_weight`\n",
        "  - ความละเอียดของการแปลง observation (continuous state) ให้เป็น discrete state\n",
        "  - ปรับใน **Run 3 (Action/Observation space test)** คู่กับ `num_of_action`\n",
        "\n",
        "- `learning_rate`\n",
        "  - ควบคุมความเร็วในการอัปเดต Q-values\n",
        "  - ปรับใน **Run 1 (Min LR)** และ **Run 2 (Max LR)** เพื่อหา learning efficiency ที่ดีที่สุด\n",
        "\n",
        "- `n_episodes`\n",
        "  - จำนวนรอบการฝึกในแต่ละ run\n",
        "  - ใช้ `5,000` สำหรับ tuning ทุก run  \n",
        "  - ใช้ `20,000` เฉพาะสำหรับ final run ของแต่ละโมเดล\n",
        "\n",
        "- `start_epsilon`\n",
        "  - ค่าเริ่มต้นของ epsilon ใน epsilon-greedy policy (ใช้ควบคุมการ explore)\n",
        "  - ใช้ค่าคงที่ `1.0` ตลอดทุกการทดลอง\n",
        "\n",
        "- `epsilon_decay`\n",
        "  - อัตราการลดลงของ epsilon ต่อ episode\n",
        "  - ปรับใน **Run 4 (Min ED)** และ **Run 5 (Max ED)**\n",
        "\n",
        "- `final_epsilon`\n",
        "  - ค่าต่ำสุดของ epsilon (ขั้นต่ำของการ explore)\n",
        "  - **ไม่ปรับในรอบนี้** (คงไว้ที่ `0.05`)\n",
        "\n",
        "- `discount`\n",
        "  - discount factor สำหรับ future reward\n",
        "  - **ไม่ปรับในรอบนี้** (คงไว้ที่ `1`)\n",
        "\n",
        "---\n",
        "\n",
        "หากต้องการต่อใน cell ถัดไป ก็สามารถแยกใส่การทดลองของแต่ละ run ต่อได้เลยครับ."
      ],
      "metadata": {
        "id": "mwBMJr_NUlHz"
      }
    },
    {
      "cell_type": "code",
      "source": [
        "# Parameter สำหรับการ Train Agent\n",
        "num_of_action = 5\n",
        "action_range = [-12, 12]  # ช่วงของ action\n",
        "discretize_state_weight = [4, 8, 4, 4]  # จำนวน bins สำหรับแต่ละ state: [pose_cart, pose_pole, vel_cart, vel_pole]\n",
        "learning_rate = 0.03\n",
        "n_episodes = 5000\n",
        "start_epsilon = 1.0\n",
        "epsilon_decay = 0.00003  # ลดความน่าจะเป็นในการสำรวจ\n",
        "final_epsilon = 0.05\n",
        "discount = 1\n",
        "\n",
        "# Parameter สำหรับ clipping ของ state values\n",
        "pose_cart_bound = 3\n",
        "pose_pole_bound = float(np.deg2rad(24.0))\n",
        "vel_cart_bound = 15\n",
        "vel_pole_bound = 15"
      ],
      "metadata": {
        "id": "o6s_cboejuh3"
      },
      "execution_count": null,
      "outputs": []
    },
    {
      "cell_type": "markdown",
      "source": [
        "#### **การกำหนดขนาดของ State Space**\n",
        "\n",
        "เพื่อให้ agent สามารถเยี่ยมชมทุก state ที่เป็นไปได้ เราเลือกที่จะกำหนด state space ให้มีขนาดเล็ก โดยคำนวณได้ดังนี้:\n",
        "\n",
        "$$N_S = S_{pose\\_cart} \\times S_{pose\\_pole} \\times S_{vel\\_cart} \\times S_{vel\\_pole}$$\n",
        "\n",
        "โดยที่จำนวน state (bins) แต่ละตัวถูกกำหนดโดย `discretize_state_weight` เช่น ในที่นี้:\n",
        "\n",
        "$$N_S = 4 \\times 8 \\times 4 \\times 4 = 512$$\n",
        "\n",
        "และขนาดของ Q-table คือ:\n",
        "\n",
        "$$N_Q = N_S \\times N_A = 512 \\times 5 = 2560$$\n",
        "\n",
        "ซึ่งหมายความว่าในแต่ละ episode agent มีโอกาสเยี่ยมชม state-action pair ได้บ่อยครั้ง"
      ],
      "metadata": {
        "id": "T5vLIhvkjzv_"
      }
    },
    {
      "cell_type": "markdown",
      "source": [
        "#### **การ Train & การ Play**\n",
        "\n",
        "ในขั้นตอนนี้ เราจะทำการฝึก (Train) Agent ด้วยคำสั่งใน terminal และใช้ script สำหรับการทดสอบ (Play) โดยใช้คำสั่งดังนี้:\n",
        "\n",
        "```bash\n",
        "# ฝึก Agent สำหรับ Stabilizing Cart-Pole Task\n",
        "python scripts/RL_Algorithm/train.py --task Stabilize-Isaac-Cartpole-v0\n",
        "\n",
        "# ทดสอบ Agent หลังจากที่ฝึกเสร็จ\n",
        "python scripts/RL_Algorithm/play.py --task Stabilize-Isaac-Cartpole-v0\n",
        "```\n",
        "\n",
        "หมายเหตุ: ในที่นี้เราจะทำเฉพาะการทดลอง Stabilizing Cart-Pole Task โดยไม่รวม Swing-up"
      ],
      "metadata": {
        "id": "qzhiTrU6j1h0"
      }
    },
    {
      "cell_type": "markdown",
      "source": [
        "### **Experiment Runs Parameters Summary**\n",
        "\n",
        "---\n",
        "\n",
        "###  **1. QL Tuning (5K Ep. Each)**  \n",
        "#### **Run 1:** 5K QL - Min LR & Min Epsilon Decay\n",
        "```python\n",
        "learning_rate = 0.01\n",
        "epsilon_decay = 0.00001\n",
        "n_episodes = 5000\n",
        "```\n",
        "\n",
        "#### **Run 2:** 5K QL - Max LR & Max Epsilon Decay\n",
        "```python\n",
        "learning_rate = 0.1\n",
        "epsilon_decay = 0.0001\n",
        "n_episodes = 5000\n",
        "```\n",
        "\n",
        "#### **Run 3:** 5K QL - Action/Obs Space Test **ไม่ได้บันทึกผลไว้\n",
        "```python\n",
        "num_of_action = 3\n",
        "discretize_state_weight = [3, 6, 3, 3]\n",
        "n_episodes = 5000\n",
        "```\n"
      ],
      "metadata": {
        "id": "PPhAAifGaEWY"
      }
    },
    {
      "cell_type": "markdown",
      "source": [],
      "metadata": {
        "id": "sy7unGZfai97"
      }
    },
    {
      "cell_type": "markdown",
      "source": [
        "\n",
        "### **2. Model Comparison (5K Ep. Each)**  \n",
        "\n",
        "#### **Run 4:** 5K QL - Final/Base\n",
        "```python\n",
        "learning_rate = 0.03\n",
        "epsilon_decay = 0.00003\n",
        "num_of_action = 5\n",
        "discretize_state_weight = [4, 8, 4, 4]\n",
        "n_episodes = 5000\n",
        "```\n",
        "\n",
        "---\n",
        "\n",
        "#### **Run 5:** 5K DQL - Final/Base  \n",
        "```python\n",
        "learning_rate = 0.03\n",
        "epsilon_decay = 0.00003\n",
        "num_of_action = 5\n",
        "discretize_state_weight = [4, 8, 4, 4]\n",
        "n_episodes = 5000\n",
        "```\n",
        "\n",
        "\n",
        "\n",
        "#### **Run 7:** 5K MC - Final/Base   \n",
        "```python\n",
        "learning_rate = 0.03\n",
        "epsilon_decay = 0.00003\n",
        "num_of_action = 5\n",
        "discretize_state_weight = [4, 8, 4, 4]\n",
        "n_episodes = 5000\n",
        "```\n",
        "\n",
        "#### **Run 8:** 5K SARSA - Final/Base\n",
        "```python\n",
        "learning_rate = 0.03\n",
        "epsilon_decay = 0.00003\n",
        "num_of_action = 5\n",
        "discretize_state_weight = [4, 8, 4, 4]\n",
        "n_episodes = 5000\n",
        "```\n",
        "\n",
        "\n",
        "#### **Run 6:** 5K DQL - Lower LR\n",
        "```python\n",
        "learning_rate = 0.01\n",
        "epsilon_decay = 0.00003\n",
        "num_of_action = 5\n",
        "discretize_state_weight = [4, 8, 4, 4]\n",
        "n_episodes = 5000\n",
        "```\n",
        "\n",
        "#### **Run 9:** 5K SARSA - Lower Epsilon Decay   \n",
        "```python\n",
        "learning_rate = 0.03\n",
        "epsilon_decay = 0.00001\n",
        "num_of_action = 5\n",
        "discretize_state_weight = [4, 8, 4, 4]\n",
        "n_episodes = 5000\n",
        "```\n",
        "\n",
        "--"
      ],
      "metadata": {
        "id": "fciFOXZ0ahsT"
      }
    },
    {
      "cell_type": "markdown",
      "source": [
        "#### **สรุปผลการ Train**\n",
        "\n",
        "ผลลัพธ์ที่ได้จะรวมถึงการเปลี่ยนแปลงของ Reward ต่อ Episode และ Q-Value Distribution ซึ่งสามารถ plot ได้ในขั้นตอนการ Evaluate (Part 3)\n",
        "\n",
        "นอกจากนี้ คุณสามารถปรับพารามิเตอร์และเปรียบเทียบประสิทธิภาพของโมเดลต่าง ๆ โดยมีแผนการทดลองดังนี้:\n",
        "\n",
        "### **Plan สำหรับการ Tune และเปรียบเทียบ**\n",
        "\n",
        "- **1. Tune Q-Learning (QL):**\n",
        "  - ทดลองเปลี่ยนค่า `learning_rate` และ `epsilon_decay` (Min, Max, Mid) ทีละ 5K episode\n",
        "\n",
        "- **2. ทดลองโมเดลอื่น (ใช้พารามิเตอร์จาก QL):**\n",
        "  - **Double Q-Learning (DQL):** 5K episode (ใช้ค่าเดิม และปรับลด `learning_rate`)\n",
        "  - **SARSA:** 5K episode (ใช้ค่าเดิม และปรับลด `epsilon_decay`)\n",
        "  - **Monte Carlo (MC):** 5K episode (ปรับค่า `discount` ให้สูงขึ้น เช่น 0.95 หรือ 1)\n",
        "\n",
        "\n",
        "สรุปค่า parameter ของแต่ละ run (Run Parameters Summary) จะประกอบด้วย:\n",
        "\n",
        " **Run 1: QL - ค่า LR ต่ำและ epsilon decay ต่ำ**\n",
        "\n",
        " **Run 2: QL - ค่า LR สูงและ epsilon decay สูง**\n",
        "\n",
        " **Run 3: QL - ทดสอบขนาดของ state/action space**\n",
        "\n",
        " **Run 4: QL - ค่าเบสสำหรับการเปรียบเทียบ**\n",
        "\n",
        "และต่อด้วยการเปรียบเทียบโมเดลอื่น ๆ (DQL, SARSA, MC) ตามที่วางแผนไว้"
      ],
      "metadata": {
        "id": "xd36zGIQj3PG"
      }
    },
    {
      "cell_type": "markdown",
      "source": [
        "\n",
        "\n",
        "---\n",
        "\n",
        "### **1. Q-Learning Tuning (Run 1-3)**  \n",
        "ในการทดลองปรับ hyperparameter ของ Q-Learning พบว่า:\n",
        "\n",
        "- **Run 1 (Min LR & Min Decay)**  \n",
        "  การเรียนรู้ค่อนข้างช้า agent ใช้เวลานานกว่าจะเริ่มได้คะแนนดี เนื่องจาก learning rate ต่ำเกินไป ทำให้ update ทีละน้อย และ epsilon decay ช้า agent เลยยังสุ่มนานเกินจำเป็น  \n",
        "  > ผลคือ agent ยังไม่ converge ภายใน 5,000 episodes\n",
        "\n",
        "- **Run 2 (Max LR & Max Decay)**  \n",
        "  มีการเรียนรู้เร็วขึ้นในช่วงแรก แต่กรณีนี้ค่า epsilon ลดลงเร็วมากเกินไป agent หยุดสุ่มเร็ว ทำให้ติด local optimum  \n",
        "  > agent เลือกสิ่งที่ดี \"ในตอนนั้น\" ไวเกินไป\n",
        "\n",
        "- **Run 3 (Lower Res in Action/Obs Space)**  \n",
        "  ลดความละเอียดลง ส่งผลให้ agent มีข้อมูล input ที่ง่ายขึ้น (state space น้อยลง) และ action น้อยลง  \n",
        "  > agent เรียนรู้เร็วกว่าเดิม แต่อาจควบคุมได้ไม่ละเอียดเท่าค่าพื้นฐาน\n",
        "\n",
        "**Insight:**  \n",
        "ค่า base case เดิม (Run 4) จึงเป็นจุดสมดุลระหว่างความเร็วในการเรียนรู้และความสามารถในการควบคุม ซึ่งได้ผลลัพธ์ที่ดีที่สุดในเชิง performance และ stability\n",
        "\n",
        "---\n",
        "\n",
        "###  **2. Final Q-Learning vs Other Models (Run 4-8)**  \n",
        "เมื่อเปรียบเทียบ Q-Learning กับ DQL, SARSA และ MC ที่ใช้พารามิเตอร์เดียวกัน:\n",
        "\n",
        "- **Q-Learning (Run 4)**  \n",
        "  มีความสามารถในการเรียนรู้เร็วและเสถียร เหมาะสำหรับ environment แบบ deterministic อย่าง CartPole  \n",
        "\n",
        "- **DQL (Run 5)**  \n",
        "  ประสิทธิภาพใกล้เคียง QL หรืออาจดีกว่าเล็กน้อยในบางช่วง เพราะลด bias จาก max Q ใน Q-table ด้วยการใช้ Q สองตัว  \n",
        "\n",
        "- **SARSA (Run 8)**  \n",
        "  ระมัดระวังมากกว่า QL เพราะอิง action จริงที่จะเกิดในอนาคต  \n",
        "  > ผลคือเรียนรู้ช้ากว่า QL แต่มีแนวโน้มเล่นปลอดภัยกว่า  \n",
        "\n",
        "- **MC (Run 7)**  \n",
        "  ค่อนข้างช้าหรือไม่เสถียร เนื่องจากต้องรอ episode จบก่อนถึงจะ update ทำให้ข้อมูล update ช้า  \n",
        "  > เหมาะกับ environment ที่ episode สั้นและ variance ไม่เยอะเท่านั้น\n",
        "\n",
        "---\n",
        "\n",
        "###  **3. Tweaked Runs (Run 6 & 9)**  \n",
        "การทดลองปรับพารามิเตอร์เพิ่มเติมในโมเดลอื่น:\n",
        "\n",
        "- **Run 6: DQL with Lower LR**  \n",
        "  ปรับ learning rate ให้ต่ำลง ทำให้การอัปเดต Q มีความละเอียดมากขึ้น  \n",
        "  > ส่งผลให้การเรียนรู้เสถียรขึ้น แต่น่าจะช้ากว่า base case เล็กน้อย\n",
        "\n",
        "- **Run 9: SARSA with Lower Epsilon Decay**  \n",
        "  ชะลอการลด epsilon เพื่อให้ agent explore ได้นานขึ้น  \n",
        "  > อาจทำให้เรียนรู้แนวทางที่ดีกว่า แต่ก็เสี่ยงต่อการเรียนรู้ช้าและไม่ converge ภายใน 5K episodes\n",
        "\n",
        "---\n",
        "\n"
      ],
      "metadata": {
        "id": "77pIGWeOb68_"
      }
    },
    {
      "cell_type": "code",
      "source": [],
      "metadata": {
        "id": "bYT2qIWgV8PJ"
      },
      "execution_count": null,
      "outputs": []
    },
    {
      "cell_type": "markdown",
      "source": [
        "#### **ตัวอย่างโค้ดสรุป Parameter สำหรับ Run ตัวอย่าง**\n"
      ],
      "metadata": {
        "id": "Xxw3i0Puj9GS"
      }
    },
    {
      "cell_type": "code",
      "source": [
        "# Parameter สำหรับ Run 4 (QL เบส)\n",
        "num_of_action = 5\n",
        "action_range = [-12, 12]\n",
        "discretize_state_weight = [4, 8, 4, 4]\n",
        "learning_rate = 0.03\n",
        "n_episodes = 5000\n",
        "start_epsilon = 1.0\n",
        "epsilon_decay = 0.00003\n",
        "final_epsilon = 0.05\n",
        "discount = 1\n",
        "\n",
        "# Parameter สำหรับการ clipping ของ state\n",
        "pose_cart_bound = 3\n",
        "pose_pole_bound = float(np.deg2rad(24.0))\n",
        "vel_cart_bound = 15\n",
        "vel_pole_bound = 15"
      ],
      "metadata": {
        "id": "Z9MR3hzJooVQ"
      },
      "execution_count": null,
      "outputs": []
    },
    {
      "cell_type": "markdown",
      "source": [
        "### **Summary ของ Part 2**\n",
        "\n",
        "- ในส่วนนี้ เราได้อธิบายถึงการกำหนดค่าพารามิเตอร์เบื้องต้นสำหรับการ Train และ Play Agent ในการ Stabilizing Cart-Pole\n",
        "- ได้สรุปแนวทางการทดลองทั้งในระดับการปรับค่า (tuning) และเปรียบเทียบประสิทธิภาพของโมเดลต่าง ๆ\n",
        "- มีการคำนวณขนาด state space และ Q-table เพื่อประเมินความครอบคลุมของการเยี่ยมชม state\n",
        "- ในส่วน Play เราใช้คำสั่ง terminal เพื่อรัน script ทดสอบ ซึ่งเป็นส่วนที่สามารถปรับปรุงได้ตามที่อาจารย์กำหนด\n",
        "\n",
        "ส่วนนี้เป็นพื้นฐานสำคัญที่จะนำไปสู่การวิเคราะห์ผล (Evaluation) ใน Part 3"
      ],
      "metadata": {
        "id": "iFXpxRVKkAiE"
      }
    },
    {
      "cell_type": "markdown",
      "source": [
        "---"
      ],
      "metadata": {
        "id": "i_UjXsmdnl09"
      }
    },
    {
      "cell_type": "markdown",
      "source": [
        "# **Part 3: Evaluate `Cart-Pole` Agent Performance.**"
      ],
      "metadata": {
        "id": "58-229rKnmvg"
      }
    },
    {
      "cell_type": "code",
      "source": [
        "from evaluate import *"
      ],
      "metadata": {
        "id": "oVPF4JMAMC5J"
      },
      "execution_count": null,
      "outputs": []
    },
    {
      "cell_type": "markdown",
      "source": [
        "การวิเคราะห์ Q‑table นั้นมีความท้าทาย เนื่องจาก state space มีมิติสูง ในกราฟ 3D แกน z มักจะแสดงค่า maximum action‑value ของแต่ละ state ซึ่งบ่งบอกถึงคุณภาพ (expected return) ของ state นั้น ๆ"
      ],
      "metadata": {
        "id": "3aB6-3qWEgUa"
      }
    },
    {
      "cell_type": "markdown",
      "source": [
        "## **Baseline Experiment**\n",
        "ในส่วนนี้ เราทำการประเมินผล performance ของทุก algorithm โดยใช้การทดลอง base‑line ที่ตั้งค่าพารามิเตอร์เหมือนกัน (ตาม Part 2)"
      ],
      "metadata": {
        "id": "fAGvMUCsEhlr"
      }
    },
    {
      "cell_type": "markdown",
      "source": [
        "### **Q-Learning**\n",
        "กำหนดไฟล์ reward และ Q‑value ที่บันทึกไว้:"
      ],
      "metadata": {
        "id": "2BQ6PekfEi7K"
      }
    },
    {
      "cell_type": "code",
      "source": [
        "q_learn_reward_file = \"reward_value/QL_r_0.json\"\n",
        "q_learn_q_value_file_1000 = \"q_value/Stabilize/Q_Learning/Q_Learning0/Q_Learning_0_1000_5_12_4_8.json\"\n",
        "q_learn_q_value_file_3000 = \"q_value/Stabilize/Q_Learning/Q_Learning0/Q_Learning_0_3000_5_12_4_8.json\"\n",
        "q_learn_q_value_file_5000 = \"q_value/Stabilize/Q_Learning/Q_Learning0/Q_Learning_0_5000_5_12_4_8.json\"\n",
        "\n",
        "plot_reward(q_learn_reward_file)\n",
        "plot_reward_grouped(q_learn_reward_file, 100)\n",
        "\n",
        "plot_q_values_3d_dual(load_q_values(q_learn_q_value_file_1000), (0,1), (4,8), (2,3), (4,4))\n",
        "plot_q_values_3d_dual(load_q_values(q_learn_q_value_file_3000), (0,1), (4,8), (2,3), (4,4))\n",
        "plot_q_values_3d_dual(load_q_values(q_learn_q_value_file_5000), (0,1), (4,8), (2,3), (4,4))"
      ],
      "metadata": {
        "id": "7bzIADl9Ek-X"
      },
      "execution_count": null,
      "outputs": []
    },
    {
      "cell_type": "markdown",
      "source": [
        "**Learning Efficiency (Q-Learning):**\n",
        "- ในช่วง 1000 episode, agent เริ่มอัปเดต Q‑value เมื่อ cart และ pole อยู่ที่ศูนย์กลาง และเรียนรู้ว่าการเคลื่อนที่ของ cart ส่งผลต่อการสวิงของ pole\n",
        "- เมื่อฝึกไปถึง 5000 episode พบว่า agent เริ่มรู้จักกับ state ที่มี reward สูง แต่ยังมีปัญหาในการควบคุม cart ให้กลับมาที่ศูนย์กลาง"
      ],
      "metadata": {
        "id": "pL9_dE7KEn7N"
      }
    },
    {
      "cell_type": "markdown",
      "source": [
        "**Deployment Performance (Q-Learning):**\n",
        "- Agent สามารถคง pole ได้ในช่วงสั้น ๆ แต่ยังไม่สามารถควบคุมให้ cart กลับมาที่ศูนย์กลางอย่างต่อเนื่อง"
      ],
      "metadata": {
        "id": "y7BqNxcWEpPa"
      }
    },
    {
      "cell_type": "markdown",
      "source": [
        "### **Double Q-Learning**\n",
        "กำหนดไฟล์ reward และ Q‑value:"
      ],
      "metadata": {
        "id": "RPFmFrJuEqQ1"
      }
    },
    {
      "cell_type": "code",
      "source": [
        "dq_learn_reward_file = \"reward_value/Double_Q_Learning_r_0.json\"\n",
        "dq_learn_q_value_file_1000 = \"q_value/Stabilize/Double_Q_Learning/Double_Q_Learning0/Double_Q_Learning_0_1000_5_12_4_8.json\"\n",
        "dq_learn_q_value_file_3000 = \"q_value/Stabilize/Double_Q_Learning/Double_Q_Learning0/Double_Q_Learning_0_3000_5_12_4_8.json\"\n",
        "dq_learn_q_value_file_5000 = \"q_value/Stabilize/Double_Q_Learning/Double_Q_Learning0/Double_Q_Learning_0_5000_5_12_4_8.json\"\n",
        "\n",
        "plot_reward_grouped(dq_learn_reward_file, 100)\n",
        "plot_q_values_3d_dual(load_q_values(dq_learn_q_value_file_1000), (0,1), (4,8), (2,3), (4,4))\n",
        "plot_q_values_3d_dual(load_q_values(dq_learn_q_value_file_3000), (0,1), (4,8), (2,3), (4,4))\n",
        "plot_q_values_3d_dual(load_q_values(dq_learn_q_value_file_5000), (0,1), (4,8), (2,3), (4,4))"
      ],
      "metadata": {
        "id": "Qp5rzwzNErx4"
      },
      "execution_count": null,
      "outputs": []
    },
    {
      "cell_type": "markdown",
      "source": [
        "**Learning Efficiency (Double Q-Learning):**\n",
        "- ในช่วงแรก agent มีการปรับปรุง Q‑value ในบาง state แต่ยังคงมีข้อจำกัดในด้านการประเมินค่า โดยเฉพาะในพื้นที่ที่มีความเสี่ยงต่อการ termination\n",
        "**Deployment Performance (Double Q-Learning):**\n",
        "- ผลการ deploy แสดงให้เห็นว่า Double Q‑Learning ลด bias ในการประเมินค่าสูงเกินไปได้บ้าง แต่ยังคงมีปัญหาในการควบคุม cart"
      ],
      "metadata": {
        "id": "_4I97ADCEtTh"
      }
    },
    {
      "cell_type": "markdown",
      "source": [
        "### **SARSA**\n",
        "กำหนดไฟล์ reward และ Q‑value:"
      ],
      "metadata": {
        "id": "3gE8SrefEutO"
      }
    },
    {
      "cell_type": "code",
      "source": [
        "SARSA_reward_file = \"reward_value/SARSA_r_0.json\"\n",
        "SARSA_q_value_file_1000 = \"q_value/Stabilize/SARSA/SARSA0/SARSA_0_1000_5_12_4_8.json\"\n",
        "SARSA_q_value_file_3000 = \"q_value/Stabilize/SARSA/SARSA0/SARSA_0_3000_5_12_4_8.json\"\n",
        "SARSA_q_value_file_5000 = \"q_value/Stabilize/SARSA/SARSA0/SARSA_0_5000_5_12_4_8.json\"\n",
        "\n",
        "plot_reward_grouped(SARSA_reward_file, 100)\n",
        "plot_q_values_3d_dual(load_q_values(SARSA_q_value_file_1000), (0,1), (4,8), (2,3), (4,4))\n",
        "plot_q_values_3d_dual(load_q_values(SARSA_q_value_file_3000), (0,1), (4,8), (2,3), (4,4))\n",
        "plot_q_values_3d_dual(load_q_values(SARSA_q_value_file_5000), (0,1), (4,8), (2,3), (4,4))"
      ],
      "metadata": {
        "id": "n_fgFF_oEvy2"
      },
      "execution_count": null,
      "outputs": []
    },
    {
      "cell_type": "markdown",
      "source": [
        "**Learning Efficiency (SARSA):**\n",
        "- SARSA มีแนวโน้มเพิ่ม reward อย่างต่อเนื่อง แต่ Q‑value ในบริเวณขอบเขต termination ยังมีปัญหา\n",
        "**Deployment Performance (SARSA):**\n",
        "- Agent ที่ฝึกด้วย SARSA พบปัญหาในการควบคุมทิศทางของ cart เมื่อ pole สวิงออกนอกขอบเขต"
      ],
      "metadata": {
        "id": "1u1go1elExBO"
      }
    },
    {
      "cell_type": "markdown",
      "source": [
        "### **Monte Carlo (MC)**\n",
        "กำหนดไฟล์ reward และ Q‑value:"
      ],
      "metadata": {
        "id": "tnnI_Q1lEyqf"
      }
    },
    {
      "cell_type": "code",
      "source": [
        "MC_reward_file = \"reward_value/MC_r_0.json\"\n",
        "MC_q_value_file_1000 = \"q_value/Stabilize/MC/MC0/MC_0_1000_5_12_4_8.json\"\n",
        "MC_q_value_file_3000 = \"q_value/Stabilize/MC/MC0/MC_0_3000_5_12_4_8.json\"\n",
        "MC_q_value_file_5000 = \"q_value/Stabilize/MC/MC0/MC_0_5000_5_12_4_8.json\"\n",
        "\n",
        "plot_reward_grouped(MC_reward_file, 100)\n",
        "plot_q_values_3d_dual(load_q_values(MC_q_value_file_1000), (0,1), (4,8), (2,3), (4,4))\n",
        "plot_q_values_3d_dual(load_q_values(MC_q_value_file_3000), (0,1), (4,8), (2,3), (4,4))\n",
        "plot_q_values_3d_dual(load_q_values(MC_q_value_file_5000), (0,1), (4,8), (2,3), (4,4))"
      ],
      "metadata": {
        "id": "TFJUGUHqEzrd"
      },
      "execution_count": null,
      "outputs": []
    },
    {
      "cell_type": "markdown",
      "source": [
        "**Learning Efficiency (MC):**\n",
        "- MC มี variance สูง ทำให้ Q‑value มีความแปรปรวนมาก โดยเฉพาะเมื่อ discount factor มีค่าสูง\n",
        "**Deployment Performance (MC):**\n",
        "- Agent ที่ฝึกด้วย MC ยังมีปัญหาในการควบคุม cart ให้กลับมาที่ศูนย์กลาง"
      ],
      "metadata": {
        "id": "wWOGVIF_E0vh"
      }
    },
    {
      "cell_type": "markdown",
      "source": [
        "## **Additional Experiments**"
      ],
      "metadata": {
        "id": "tKoobzfXE14X"
      }
    },
    {
      "cell_type": "markdown",
      "source": [
        "### **Agent Saturation Check**\n",
        "ตรวจสอบว่า reward over episode ยังไม่ converge เพื่อดูว่าการฝึก 5000 episode ยังไม่เพียงพอสำหรับการเรียนรู้"
      ],
      "metadata": {
        "id": "meuUzOnOE2sB"
      }
    },
    {
      "cell_type": "markdown",
      "source": [
        "### **Discount Factor Effect**\n",
        "ทดลองเปลี่ยนค่า Discount Factor จาก 1 ไปเป็น 0.25 และ 0.1 เพื่อดูผลต่อการอัปเดตในวิธี MC"
      ],
      "metadata": {
        "id": "2soN3YJ7E3iU"
      }
    },
    {
      "cell_type": "code",
      "source": [
        "MC0_reward_file = \"reward_value/MC_r_0.json\"\n",
        "MC1_reward_file = \"reward_value/MC_r_1.json\"\n",
        "MC2_reward_file = \"reward_value/MC_r_2.json\"\n",
        "\n",
        "plot_multiple_reward_files([MC0_reward_file, MC1_reward_file, MC2_reward_file], 100)\n",
        "\n",
        "MC1_q_value_file_1000 = \"q_value/Stabilize/MC/MC1/MC_1_1000_5_12_4_8.json\"\n",
        "MC1_q_value_file_3000 = \"q_value/Stabilize/MC/MC1/MC_1_3000_5_12_4_8.json\"\n",
        "MC1_q_value_file_5000 = \"q_value/Stabilize/MC/MC1/MC_1_5000_5_12_4_8.json\"\n",
        "\n",
        "plot_q_values_3d_dual(load_q_values(MC1_q_value_file_1000), (0,1), (4,8), (2,3), (4,4))\n",
        "plot_q_values_3d_dual(load_q_values(MC1_q_value_file_3000), (0,1), (4,8), (2,3), (4,4))\n",
        "plot_q_values_3d_dual(load_q_values(MC1_q_value_file_5000), (0,1), (4,8), (2,3), (4,4))"
      ],
      "metadata": {
        "id": "7k46GTJ_E4Z9"
      },
      "execution_count": null,
      "outputs": []
    },
    {
      "cell_type": "markdown",
      "source": [
        "### **Q-Learning with Larger Space**\n",
        "ทดลองเพิ่ม resolution ของ state และ action space เพื่อดูผลต่อประสิทธิภาพของ agent"
      ],
      "metadata": {
        "id": "wDSIYtd0E5YY"
      }
    },
    {
      "cell_type": "code",
      "source": [
        "ql_mod_q_file_1000 = \"q_value/Stabilize/Q_Learning/Q_Learning1/Q_Learning_1_1000_11_25_7_12.json\"\n",
        "ql_mod_q_file_3000 = \"q_value/Stabilize/Q_Learning/Q_Learning1/Q_Learning_1_3000_11_25_7_12.json\"\n",
        "ql_mod_q_file_5000 = \"q_value/Stabilize/Q_Learning/Q_Learning1/Q_Learning_1_5000_11_25_7_12.json\"\n",
        "ql_mod_q_file_10000 = \"q_value/Stabilize/Q_Learning/Q_Learning1/Q_Learning_1_10000_11_25_7_12.json\"\n",
        "ql_mod_q_file_15000 = \"q_value/Stabilize/Q_Learning/Q_Learning1/Q_Learning_1_15000_11_25_7_12.json\"\n",
        "ql_mod_q_file_20000 = \"q_value/Stabilize/Q_Learning/Q_Learning1/Q_Learning_1_20000_11_25_7_12.json\"\n",
        "ql_mod_q_file = [ql_mod_q_file_1000, ql_mod_q_file_3000, ql_mod_q_file_5000, ql_mod_q_file_10000, ql_mod_q_file_15000, ql_mod_q_file_20000]\n",
        "ql_mod_episode_labels = [f\"Episode {ep}\" for ep in [1000, 3000, 5000, 10000, 15000, 20000]]\n",
        "\n",
        "plot_q_values_heatmaps_multiple_files(ql_mod_q_file, episodes_list=ql_mod_episode_labels, left_pair=(0,1), left_range=(7,12), right_pair=(2,3), right_range=(5,5))\n",
        "\n",
        "plot_q_values_3d_dual(load_q_values(ql_mod_q_file_20000), (0,1), (7,12), (2,3), (5,5))"
      ],
      "metadata": {
        "id": "L8LuZjIgE6J4"
      },
      "execution_count": null,
      "outputs": []
    },
    {
      "cell_type": "markdown",
      "source": [
        "## **Comparisons**\n",
        "### เปรียบเทียบผล reward ระหว่าง Double Q-Learning และ Q-Learning"
      ],
      "metadata": {
        "id": "ngFp0DMmE7jG"
      }
    },
    {
      "cell_type": "code",
      "source": [
        "plot_multiple_reward_files([\"reward_value/QL_r_1.json\", \"reward_value/Double_Q_learning_r_1.json\"], 100)"
      ],
      "metadata": {
        "id": "cyF2B3oqE8rK"
      },
      "execution_count": null,
      "outputs": []
    },
    {
      "cell_type": "markdown",
      "source": [
        "### **Learning Rate Comparison**\n",
        "เปรียบเทียบค่า learning rate 0.03 กับ 0.1 ในการเรียนรู้"
      ],
      "metadata": {
        "id": "0JXDsB_HFSaV"
      }
    },
    {
      "cell_type": "markdown",
      "source": [
        "**Learning Objectives:**\n",
        "- เข้าใจว่าการเรียนรู้ของ agent ทำงานอย่างไรในสภาวะที่ dynamic model ไม่ทราบ\n",
        "- วิเคราะห์ข้อดีข้อเสียของแต่ละ RL algorithm (Monte Carlo, SARSA, Q-Learning, Double Q-Learning)\n",
        "- ตรวจสอบผลกระทบของ resolution ของ state และ action space ต่อกระบวนการเรียนรู้"
      ],
      "metadata": {
        "id": "UMiIZhg8FUKK"
      }
    },
    {
      "cell_type": "markdown",
      "source": [
        "**Compare Lower Space and Higher Space:**\n",
        "- State/action space ที่ต่ำช่วยให้ agent เรียนรู้ได้ง่ายขึ้นเนื่องจากมี state-action pair น้อยกว่า แต่ข้อจำกัดคือการควบคุมอาจไม่ละเอียด\n",
        "- ในทางกลับกัน state/action space ที่สูงช่วยให้ agent เข้าใจ environment ได้ละเอียดขึ้น แต่ต้องใช้ episode ในการเรียนรู้มากขึ้น\n",
        "- การเลือก resolution ที่เหมาะสมจึงเป็นการ trade-off ระหว่างความเร็วในการเรียนรู้และความสามารถในการควบคุม"
      ],
      "metadata": {
        "id": "w2VkO9GWFVBJ"
      }
    },
    {
      "cell_type": "markdown",
      "source": [
        "## **Question:**\n",
        "### 1. **Which algorithm performs best?**\n",
        "   - ผลการทดลองเบื้องต้นแสดงให้เห็นว่า ...\n",
        "### 2. **Why does it perform better than the others?**\n",
        "   - เนื่องจาก ...\n",
        "### 3. **How do the resolutions of the action space and observation space affect the learning process? Why?**\n",
        "   - การใช้ resolution ที่สูงช่วยให้ agent ได้ข้อมูลที่ละเอียดขึ้น แต่ก็ต้องอัปเดต state-action pair จำนวนมากขึ้น ซึ่งส่งผลให้ต้องใช้ episode ในการเรียนรู้มากขึ้น"
      ],
      "metadata": {
        "id": "yc6wFzRXFWEo"
      }
    }
  ]
}